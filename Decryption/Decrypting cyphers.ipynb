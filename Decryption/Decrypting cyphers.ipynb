{
 "cells": [
  {
   "cell_type": "code",
   "execution_count": 1,
   "metadata": {},
   "outputs": [],
   "source": [
    "import numpy as np\n",
    "import matplotlib.pyplot as plt\n",
    "\n",
    "import string\n",
    "import random\n",
    "import re\n",
    "import requests\n",
    "import os\n",
    "import textwrap"
   ]
  },
  {
   "cell_type": "markdown",
   "metadata": {},
   "source": [
    "# Creating a substituation cypher\n",
    "\n",
    "We will be creating a cypher so that later we can find it."
   ]
  },
  {
   "cell_type": "code",
   "execution_count": 4,
   "metadata": {},
   "outputs": [],
   "source": [
    "letters1 = list(string.ascii_lowercase)\n",
    "letters2 = list(string.ascii_lowercase)"
   ]
  },
  {
   "cell_type": "code",
   "execution_count": 5,
   "metadata": {},
   "outputs": [],
   "source": [
    "true_mapping = {}\n",
    "\n",
    "# shuffle second set of letters\n",
    "random.shuffle(letters2)\n",
    "\n",
    "# populate map\n",
    "for k, v in zip(letters1, letters2):\n",
    "    true_mapping[k] = v"
   ]
  },
  {
   "cell_type": "markdown",
   "metadata": {},
   "source": [
    "# Language Model\n",
    "\n",
    "First we would be creating a markov matrix for the alphabets and initiate it with 1's to avoid zeros in our data and would be using an appropriate denominator. similarly we are creating a matrix with zeroes for all the letters for the first letter count.\n",
    "\n",
    "We are creating functions so that we can update this matrix going forward based on data so we know the general probabilities of text combinations. \n",
    "\n"
   ]
  },
  {
   "cell_type": "code",
   "execution_count": 7,
   "metadata": {},
   "outputs": [],
   "source": [
    "### the language model\n",
    "\n",
    "# initialize Markov matrix\n",
    "M = np.ones((26, 26))\n",
    "\n",
    "# initial state distribution\n",
    "pi = np.zeros(26)\n",
    "\n",
    "# a function to update the Markov matrix\n",
    "def update_transition(ch1, ch2):\n",
    "    # ord('a') = 97, ord('b') = 98, ...\n",
    "    i = ord(ch1) - 97\n",
    "    j = ord(ch2) - 97\n",
    "    M[i,j] += 1\n",
    "\n",
    "# a function to update the initial state distribution\n",
    "def update_pi(ch):\n",
    "    i = ord(ch) - 97\n",
    "    pi[i] += 1"
   ]
  },
  {
   "cell_type": "markdown",
   "metadata": {},
   "source": [
    "- Below we are building functions that will give "
   ]
  },
  {
   "cell_type": "code",
   "execution_count": 9,
   "metadata": {},
   "outputs": [],
   "source": [
    "# get the log-probability of a word / token\n",
    "def get_word_prob(word):\n",
    "    # print(\"word:\", word)\n",
    "    i = ord(word[0]) - 97\n",
    "    logp = np.log(pi[i])\n",
    "\n",
    "    for ch in word[1:]:\n",
    "        j = ord(ch) - 97\n",
    "        logp += np.log(M[i, j]) # update prob\n",
    "        i = j # update j\n",
    "\n",
    "    return logp\n",
    "\n",
    "# get the probability of a sequence of words\n",
    "def get_sequence_prob(words):\n",
    "    # if input is a string, split into an array of tokens\n",
    "    if type(words) == str:\n",
    "        words = words.split()\n",
    "    \n",
    "    logp = 0\n",
    "    for word in words:\n",
    "        logp += get_word_prob(word)\n",
    "    return logp"
   ]
  },
  {
   "cell_type": "code",
   "execution_count": null,
   "metadata": {},
   "outputs": [],
   "source": []
  }
 ],
 "metadata": {
  "kernelspec": {
   "display_name": "Python 3",
   "language": "python",
   "name": "python3"
  },
  "language_info": {
   "codemirror_mode": {
    "name": "ipython",
    "version": 3
   },
   "file_extension": ".py",
   "mimetype": "text/x-python",
   "name": "python",
   "nbconvert_exporter": "python",
   "pygments_lexer": "ipython3",
   "version": "3.8.5"
  }
 },
 "nbformat": 4,
 "nbformat_minor": 4
}
